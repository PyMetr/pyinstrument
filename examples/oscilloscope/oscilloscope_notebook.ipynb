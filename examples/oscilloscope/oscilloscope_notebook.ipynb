{
 "cells": [
  {
   "cell_type": "code",
   "execution_count": 1,
   "metadata": {},
   "outputs": [],
   "source": [
    "import numpy as np\n",
    "import matplotlib.pyplot as plt\n",
    "import logging\n",
    "from pymetr.oscilloscope.core import Oscilloscope\n",
    "from utilities import si_str_to_float"
   ]
  },
  {
   "cell_type": "markdown",
   "metadata": {},
   "source": [
    "This code can be used to set the logging level of the script."
   ]
  },
  {
   "cell_type": "code",
   "execution_count": 2,
   "metadata": {},
   "outputs": [],
   "source": [
    "# Set up basic configuration for logging\n",
    "logging.basicConfig(level=logging.CRITICAL, format='%(asctime)s - %(name)s - %(levelname)s - %(message)s')"
   ]
  },
  {
   "cell_type": "markdown",
   "metadata": {},
   "source": [
    "Set up the connection to the instrument"
   ]
  },
  {
   "cell_type": "code",
   "execution_count": 3,
   "metadata": {},
   "outputs": [
    {
     "name": "stdout",
     "output_type": "stream",
     "text": [
      "Connected to: KEYSIGHT TECHNOLOGIES,DSOX1204G,CN63147376,02.12.2021071625\n",
      "\n"
     ]
    }
   ],
   "source": [
    "# Replace with your oscilloscope's VISA resource string\n",
    "resource_string = 'TCPIP0::192.168.1.111::hislip0::INSTR'\n",
    "osc = Oscilloscope(resource_string)\n",
    "osc.open()\n",
    "print(f\"Connected to: {osc.identity()}\")"
   ]
  },
  {
   "cell_type": "markdown",
   "metadata": {},
   "source": [
    "We configure the instrument by modifying attributes "
   ]
  },
  {
   "cell_type": "code",
   "execution_count": 4,
   "metadata": {},
   "outputs": [],
   "source": [
    "osc.acquire.count = 10000\n",
    "osc.acquire.type = osc.acquire.Type.NORMAL\n",
    "\n",
    "osc.trigger.mode = osc.trigger.Mode.EDGE  # settings which require a \n",
    "osc.trigger.source = osc.Source.CH1\n",
    "osc.trigger.level = 0.5  # Volts\n",
    "osc.trigger.slope = osc.trigger.Slope.POSITIVE\n",
    "\n",
    "osc.timebase.range = 0.001"
   ]
  },
  {
   "cell_type": "markdown",
   "metadata": {},
   "source": [
    "From here we can use the oscilloscope root functions to handle the data acquisition flow"
   ]
  },
  {
   "cell_type": "code",
   "execution_count": 5,
   "metadata": {},
   "outputs": [],
   "source": [
    "osc.autoscale(osc.Source.CH1)\n",
    "osc.single()\n",
    "osc.query_operation_complete()\n",
    "osc.digitize('CH1')\n",
    "osc.query_operation_complete()\n",
    "preamble = osc.waveform.fetch_preamble()\n",
    "voltage_data = osc.waveform.fetch_trace(1)"
   ]
  },
  {
   "cell_type": "markdown",
   "metadata": {},
   "source": [
    "Lastly, we can built the x-axis data and plot the result."
   ]
  },
  {
   "cell_type": "code",
   "execution_count": 6,
   "metadata": {},
   "outputs": [
    {
     "ename": "TypeError",
     "evalue": "object of type 'NoneType' has no len()",
     "output_type": "error",
     "traceback": [
      "\u001b[1;31m---------------------------------------------------------------------------\u001b[0m",
      "\u001b[1;31mTypeError\u001b[0m                                 Traceback (most recent call last)",
      "Cell \u001b[1;32mIn[6], line 1\u001b[0m\n\u001b[1;32m----> 1\u001b[0m num_points \u001b[38;5;241m=\u001b[39m \u001b[38;5;28;43mlen\u001b[39;49m\u001b[43m(\u001b[49m\u001b[43mvoltage_data\u001b[49m\u001b[43m)\u001b[49m\n\u001b[0;32m      2\u001b[0m time_data \u001b[38;5;241m=\u001b[39m np\u001b[38;5;241m.\u001b[39marange(num_points) \u001b[38;5;241m*\u001b[39m osc\u001b[38;5;241m.\u001b[39mwaveform\u001b[38;5;241m.\u001b[39mx_increment \u001b[38;5;241m+\u001b[39m osc\u001b[38;5;241m.\u001b[39mwaveform\u001b[38;5;241m.\u001b[39mx_origin  \u001b[38;5;66;03m#use the updated preamble data to build the x ax-s\u001b[39;00m\n\u001b[0;32m      4\u001b[0m plt\u001b[38;5;241m.\u001b[39mfigure(figsize\u001b[38;5;241m=\u001b[39m(\u001b[38;5;241m10\u001b[39m, \u001b[38;5;241m6\u001b[39m))\n",
      "\u001b[1;31mTypeError\u001b[0m: object of type 'NoneType' has no len()"
     ]
    }
   ],
   "source": [
    "num_points = len(voltage_data)\n",
    "time_data = np.arange(num_points) * osc.waveform.x_increment + osc.waveform.x_origin  #use the updated preamble data to build the x ax-s\n",
    "\n",
    "plt.figure(figsize=(10, 6))\n",
    "plt.plot(time_data, voltage_data, label='Channel 1')\n",
    "plt.xlabel('Time (s)')\n",
    "plt.ylabel('Voltage (V)')\n",
    "plt.title('Oscilloscope Waveform')\n",
    "plt.legend()\n",
    "plt.grid(True)\n",
    "plt.show()\n",
    "osc.close()"
   ]
  }
 ],
 "metadata": {
  "kernelspec": {
   "display_name": "Python 3",
   "language": "python",
   "name": "python3"
  },
  "language_info": {
   "codemirror_mode": {
    "name": "ipython",
    "version": 3
   },
   "file_extension": ".py",
   "mimetype": "text/x-python",
   "name": "python",
   "nbconvert_exporter": "python",
   "pygments_lexer": "ipython3",
   "version": "3.12.0"
  }
 },
 "nbformat": 4,
 "nbformat_minor": 2
}
