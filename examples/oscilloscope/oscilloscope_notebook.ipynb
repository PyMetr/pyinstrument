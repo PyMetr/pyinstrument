{
 "cells": [
  {
   "cell_type": "code",
   "execution_count": 2,
   "metadata": {},
   "outputs": [],
   "source": [
    "import numpy as np\n",
    "import matplotlib.pyplot as plt\n",
    "import logging\n",
    "from pymetr.oscilloscope.core import Oscilloscope\n",
    "from utilities import si_str_to_float"
   ]
  },
  {
   "cell_type": "markdown",
   "metadata": {},
   "source": [
    "This code can be used to set the logging level of the script."
   ]
  },
  {
   "cell_type": "code",
   "execution_count": null,
   "metadata": {},
   "outputs": [],
   "source": [
    "# Set up basic configuration for logging\n",
    "logging.basicConfig(level=logging.CRITICAL, format='%(asctime)s - %(name)s - %(levelname)s - %(message)s')"
   ]
  },
  {
   "cell_type": "markdown",
   "metadata": {},
   "source": [
    "Set up the connection to the instrument"
   ]
  },
  {
   "cell_type": "code",
   "execution_count": 1,
   "metadata": {},
   "outputs": [
    {
     "ename": "NameError",
     "evalue": "name 'Oscilloscope' is not defined",
     "output_type": "error",
     "traceback": [
      "\u001b[1;31m---------------------------------------------------------------------------\u001b[0m",
      "\u001b[1;31mNameError\u001b[0m                                 Traceback (most recent call last)",
      "Cell \u001b[1;32mIn[1], line 3\u001b[0m\n\u001b[0;32m      1\u001b[0m \u001b[38;5;66;03m# Replace with your oscilloscope's VISA resource string\u001b[39;00m\n\u001b[0;32m      2\u001b[0m resource_string \u001b[38;5;241m=\u001b[39m \u001b[38;5;124m'\u001b[39m\u001b[38;5;124mTCPIP0::192.168.1.111::hislip0::INSTR\u001b[39m\u001b[38;5;124m'\u001b[39m\n\u001b[1;32m----> 3\u001b[0m osc \u001b[38;5;241m=\u001b[39m \u001b[43mOscilloscope\u001b[49m(resource_string)\n\u001b[0;32m      4\u001b[0m osc\u001b[38;5;241m.\u001b[39mopen()\n\u001b[0;32m      5\u001b[0m \u001b[38;5;28mprint\u001b[39m(\u001b[38;5;124mf\u001b[39m\u001b[38;5;124m\"\u001b[39m\u001b[38;5;124mConnected to: \u001b[39m\u001b[38;5;132;01m{\u001b[39;00mosc\u001b[38;5;241m.\u001b[39midentity()\u001b[38;5;132;01m}\u001b[39;00m\u001b[38;5;124m\"\u001b[39m)\n",
      "\u001b[1;31mNameError\u001b[0m: name 'Oscilloscope' is not defined"
     ]
    }
   ],
   "source": [
    "# Replace with your oscilloscope's VISA resource string\n",
    "resource_string = 'TCPIP0::192.168.1.111::hislip0::INSTR'\n",
    "osc = Oscilloscope(resource_string)\n",
    "osc.open()\n",
    "print(f\"Connected to: {osc.identity()}\")"
   ]
  },
  {
   "cell_type": "markdown",
   "metadata": {},
   "source": [
    "We configure the instrument by modifying attributes "
   ]
  },
  {
   "cell_type": "code",
   "execution_count": null,
   "metadata": {},
   "outputs": [],
   "source": [
    "osc.acquire.count = 10000\n",
    "osc.acquire.type = osc.acquire.Type.NORMAL\n",
    "\n",
    "osc.trigger.mode = osc.trigger.Mode.EDGE  # settings which require a \n",
    "osc.trigger.source = osc.Source.CH1\n",
    "osc.trigger.level = 0.5  # Volts\n",
    "osc.trigger.slope = osc.trigger.Slope.POSITIVE\n",
    "\n",
    "osc.timebase.range = 0.001"
   ]
  },
  {
   "cell_type": "markdown",
   "metadata": {},
   "source": [
    "From here we can use the oscilloscope root functions to handle the data acquisition flow"
   ]
  },
  {
   "cell_type": "code",
   "execution_count": null,
   "metadata": {},
   "outputs": [],
   "source": [
    "osc.autoscale(osc.Source.CH1)\n",
    "osc.single()\n",
    "osc.query_operation_complete()\n",
    "osc.digitize('CH1')\n",
    "osc.query_operation_complete()\n",
    "preamble = osc.waveform.fetch_preamble()\n",
    "voltage_data = osc.waveform.fetch_trace(1)"
   ]
  },
  {
   "cell_type": "markdown",
   "metadata": {},
   "source": [
    "Lastly, we can built the x-axis data and plot the result."
   ]
  },
  {
   "cell_type": "code",
   "execution_count": null,
   "metadata": {},
   "outputs": [],
   "source": [
    "num_points = len(voltage_data)\n",
    "time_data = np.arange(num_points) * osc.waveform.x_increment + osc.waveform.x_origin  #use the updated preamble data to build the x ax-s\n",
    "\n",
    "plt.figure(figsize=(10, 6))\n",
    "plt.plot(time_data, voltage_data, label='Channel 1')\n",
    "plt.xlabel('Time (s)')\n",
    "plt.ylabel('Voltage (V)')\n",
    "plt.title('Oscilloscope Waveform')\n",
    "plt.legend()\n",
    "plt.grid(True)\n",
    "plt.show()\n",
    "osc.close()"
   ]
  }
 ],
 "metadata": {
  "kernelspec": {
   "display_name": "Python 3",
   "language": "python",
   "name": "python3"
  },
  "language_info": {
   "codemirror_mode": {
    "name": "ipython",
    "version": 3
   },
   "file_extension": ".py",
   "mimetype": "text/x-python",
   "name": "python",
   "nbconvert_exporter": "python",
   "pygments_lexer": "ipython3",
   "version": "3.12.0"
  }
 },
 "nbformat": 4,
 "nbformat_minor": 2
}
