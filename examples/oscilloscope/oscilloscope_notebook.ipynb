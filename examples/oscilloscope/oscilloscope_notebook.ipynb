{
 "cells": [
  {
   "cell_type": "code",
   "execution_count": 1,
   "metadata": {},
   "outputs": [
    {
     "ename": "ModuleNotFoundError",
     "evalue": "No module named 'pymetr'",
     "output_type": "error",
     "traceback": [
      "\u001b[1;31m---------------------------------------------------------------------------\u001b[0m",
      "\u001b[1;31mModuleNotFoundError\u001b[0m                       Traceback (most recent call last)",
      "Cell \u001b[1;32mIn[1], line 4\u001b[0m\n\u001b[0;32m      2\u001b[0m \u001b[38;5;28;01mimport\u001b[39;00m \u001b[38;5;21;01mmatplotlib\u001b[39;00m\u001b[38;5;21;01m.\u001b[39;00m\u001b[38;5;21;01mpyplot\u001b[39;00m \u001b[38;5;28;01mas\u001b[39;00m \u001b[38;5;21;01mplt\u001b[39;00m\n\u001b[0;32m      3\u001b[0m \u001b[38;5;28;01mimport\u001b[39;00m \u001b[38;5;21;01mlogging\u001b[39;00m\n\u001b[1;32m----> 4\u001b[0m \u001b[38;5;28;01mfrom\u001b[39;00m \u001b[38;5;21;01mpymetr\u001b[39;00m\u001b[38;5;21;01m.\u001b[39;00m\u001b[38;5;21;01moscilloscope\u001b[39;00m\u001b[38;5;21;01m.\u001b[39;00m\u001b[38;5;21;01mcore\u001b[39;00m \u001b[38;5;28;01mimport\u001b[39;00m Oscilloscope\n\u001b[0;32m      5\u001b[0m \u001b[38;5;28;01mfrom\u001b[39;00m \u001b[38;5;21;01mutilities\u001b[39;00m \u001b[38;5;28;01mimport\u001b[39;00m si_str_to_float\n",
      "\u001b[1;31mModuleNotFoundError\u001b[0m: No module named 'pymetr'"
     ]
    }
   ],
   "source": [
    "import numpy as np\n",
    "import matplotlib.pyplot as plt\n",
    "import logging\n",
    "from pymetr.oscilloscope.core import Oscilloscope\n",
    "from utilities import si_str_to_float"
   ]
  },
  {
   "cell_type": "markdown",
   "metadata": {},
   "source": [
    "This code can be used to set the logging level of the script."
   ]
  },
  {
   "cell_type": "code",
   "execution_count": null,
   "metadata": {},
   "outputs": [],
   "source": [
    "# Set up basic configuration for logging\n",
    "logging.basicConfig(level=logging.CRITICAL, format='%(asctime)s - %(name)s - %(levelname)s - %(message)s')"
   ]
  },
  {
   "cell_type": "markdown",
   "metadata": {},
   "source": [
    "Set up the connection to the instrument"
   ]
  },
  {
   "cell_type": "code",
   "execution_count": null,
   "metadata": {},
   "outputs": [],
   "source": [
    "# Replace with your oscilloscope's VISA resource string\n",
    "resource_string = 'TCPIP0::192.168.1.111::hislip0::INSTR'\n",
    "osc = Oscilloscope(resource_string)\n",
    "osc.open()\n",
    "print(f\"Connected to: {osc.identity()}\")"
   ]
  },
  {
   "cell_type": "markdown",
   "metadata": {},
   "source": [
    "We configure the instrument by modifying attributes "
   ]
  },
  {
   "cell_type": "code",
   "execution_count": null,
   "metadata": {},
   "outputs": [],
   "source": [
    "osc.acquire.count = 10000\n",
    "osc.acquire.type = osc.acquire.Type.NORMAL\n",
    "\n",
    "osc.trigger.mode = osc.trigger.Mode.EDGE  # settings which require a \n",
    "osc.trigger.source = osc.Source.CH1\n",
    "osc.trigger.level = 0.5  # Volts\n",
    "osc.trigger.slope = osc.trigger.Slope.POSITIVE\n",
    "\n",
    "osc.timebase.range = 0.001"
   ]
  },
  {
   "cell_type": "markdown",
   "metadata": {},
   "source": [
    "From here we can use the oscilloscope root functions to handle the data acquisition flow"
   ]
  },
  {
   "cell_type": "code",
   "execution_count": null,
   "metadata": {},
   "outputs": [],
   "source": [
    "osc.autoscale(osc.Source.CH1)\n",
    "osc.single()\n",
    "osc.query_operation_complete()\n",
    "osc.digitize('CH1')\n",
    "osc.query_operation_complete()\n",
    "preamble = osc.waveform.fetch_preamble()\n",
    "voltage_data = osc.waveform.fetch_trace('CH1')"
   ]
  },
  {
   "cell_type": "markdown",
   "metadata": {},
   "source": [
    "Lastly, we can built the x-axis data and plot the result."
   ]
  },
  {
   "cell_type": "code",
   "execution_count": null,
   "metadata": {},
   "outputs": [],
   "source": [
    "num_points = len(voltage_data)\n",
    "time_data = np.arange(num_points) * osc.waveform.x_increment + osc.waveform.x_origin  #use the updated preamble data to build the x ax-s\n",
    "\n",
    "plt.figure(figsize=(10, 6))\n",
    "plt.plot(time_data, voltage_data, label='Channel 1')\n",
    "plt.xlabel('Time (s)')\n",
    "plt.ylabel('Voltage (V)')\n",
    "plt.title('Oscilloscope Waveform')\n",
    "plt.legend()\n",
    "plt.grid(True)\n",
    "plt.show()\n",
    "osc.close()"
   ]
  }
 ],
 "metadata": {
  "kernelspec": {
   "display_name": "Python 3",
   "language": "python",
   "name": "python3"
  },
  "language_info": {
   "codemirror_mode": {
    "name": "ipython",
    "version": 3
   },
   "file_extension": ".py",
   "mimetype": "text/x-python",
   "name": "python",
   "nbconvert_exporter": "python",
   "pygments_lexer": "ipython3",
   "version": "3.12.0"
  }
 },
 "nbformat": 4,
 "nbformat_minor": 2
}
