{
 "cells": [
  {
   "cell_type": "code",
   "execution_count": 1,
   "metadata": {},
   "outputs": [],
   "source": [
    "import logging\n",
    "from pymetr.instruments import Instrument\n",
    "\n",
    "# Configure logging at the start of your script\n",
    "logging.basicConfig(level=logging.DEBUG, format='%(asctime)s - %(name)s - %(levelname)s - %(message)s')\n",
    "\n",
    "def command_property(cmd_str, valid_values=None, doc_str=\"Doc-string not added. Shame on you!\"):\n",
    "    \"\"\"\n",
    "    Factory function to create a property in a subsystem class for interacting with instrument commands.\n",
    "    Supports handling multiple values as arguments, includes validation against a list of valid values, and\n",
    "    dynamically constructs the property's docstring.\n",
    "\n",
    "    Args:\n",
    "        cmd_str (str): The base command string associated with the property.\n",
    "        valid_values (list of str, optional): A list of valid values that the property can accept.\n",
    "        doc_str (str): Base documentation string for the property.\n",
    "\n",
    "    Returns:\n",
    "        property: A property object with custom getter and setter for instrument communication.\n",
    "    \"\"\"\n",
    "    logger = logging.getLogger(__name__)\n",
    "\n",
    "    # Dynamically construct the property's docstring\n",
    "    value_docs = f\" Valid values: {', '.join(valid_values)}.\" if valid_values else \"\"\n",
    "    doc_str = f\"{doc_str}{value_docs}\"\n",
    "\n",
    "    def getter(self):\n",
    "        print(f\"Simulated query: {cmd_str}\")\n",
    "        logger.debug(f\"Getting value for {cmd_str}\")\n",
    "        return self.query(f\"{cmd_str}?\")\n",
    "\n",
    "    def setter(self, *values):\n",
    "        if len(values) == 1:\n",
    "            value_str = str(values[0])\n",
    "        else:\n",
    "            value_str = ', '.join(map(str, values))\n",
    "\n",
    "        if valid_values and not all(value in valid_values for value in values):\n",
    "            error_msg = f\"Invalid value(s): {values}. Valid options are: {valid_values}.\"\n",
    "            logger.error(error_msg)\n",
    "            raise ValueError(error_msg)\n",
    "        print(f\"Simulated query: {cmd_str}\")\n",
    "        logger.debug(f\"Setting {cmd_str} with {value_str}\")\n",
    "        self.write(f\"{cmd_str} {value_str}\")\n",
    "\n",
    "    return property(fget=getter, fset=setter, doc=doc_str)\n",
    "\n",
    "\n",
    "class Subsystem:\n",
    "    \"\"\"\n",
    "    Represents a subsystem of an instrument, encapsulating the logic to communicate with the instrument.\n",
    "    This base class provides structured methods for sending commands and queries, complete with logging.\n",
    "\n",
    "    Attributes:\n",
    "        _parent (Instrument): Reference to the parent instrument object this subsystem communicates with.\n",
    "        cmd_prefix (str): Prefix for SCPI commands specific to this subsystem, prepended to all commands.\n",
    "    \"\"\"\n",
    "\n",
    "    __slots__ = ['_parent', 'cmd_prefix']\n",
    "    \n",
    "    def __init__(self, parent, cmd_prefix=\"\"):\n",
    "        self._parent = parent\n",
    "        self.cmd_prefix = cmd_prefix\n",
    "        self.logger = logging.getLogger(__name__)\n",
    "\n",
    "    def write(self, command):\n",
    "        \"\"\"\n",
    "        Sends a write command to the instrument, logging the command sent.\n",
    "\n",
    "        Args:\n",
    "            command (str): The command to be sent to the instrument.\n",
    "        \"\"\"\n",
    "        full_command = f\"{self.cmd_prefix}{command}\"\n",
    "        self.logger.info(f\"Writing command to instrument: {full_command}\")\n",
    "        self._parent.write(full_command)\n",
    "\n",
    "    def query(self, command):\n",
    "        \"\"\"\n",
    "        Sends a query to the instrument, logs the query sent, and returns the response.\n",
    "\n",
    "        Args:\n",
    "            command (str): The query command to be sent to the instrument.\n",
    "\n",
    "        Returns:\n",
    "            str: The response from the instrument.\n",
    "        \"\"\"\n",
    "        full_command = f\"{self.cmd_prefix}{command}\"\n",
    "        self.logger.info(f\"Querying instrument with command: {full_command}\")\n",
    "        response = self._parent.query(full_command)\n",
    "        self.logger.debug(f\"Received response: {response}\")\n",
    "        return response"
   ]
  },
  {
   "cell_type": "code",
   "execution_count": 2,
   "metadata": {},
   "outputs": [],
   "source": [
    "class Timebase(Subsystem):\n",
    "    \"\"\"\n",
    "    Handles the timebase settings of the oscilloscope, controlling the horizontal sweep functions.\n",
    "    \"\"\"\n",
    "    MODES = [\"MAIN\", \"WINDOW\", \"XY\", \"ROLL\"]\n",
    "    REFERENCES = [\"LEFT\", \"CENTER\", \"RIGHT\"]\n",
    "\n",
    "    def __init__(self, parent):\n",
    "        super().__init__(parent, \":TIMebase:\")\n",
    "        self.mode = command_property(\"MODE\", Timebase.MODES, doc_str=\"Adjusts the display mode.\")\n",
    "        self.position = command_property(\"POSition\", doc_str=\"Modifies the horizontal position on the screen.\")\n",
    "        self.range = command_property(\"RANGe\", doc_str=\"Sets the visible time range of the waveform display.\")\n",
    "        self.reference = command_property(\"REFerence\", Timebase.REFERENCES, doc_str=\"Determines the reference position for measurements.\")\n",
    "        self.scale = command_property(\"SCALe\", doc_str=\"Changes the scale for time division on the display.\")"
   ]
  },
  {
   "cell_type": "code",
   "execution_count": 3,
   "metadata": {},
   "outputs": [
    {
     "name": "stderr",
     "output_type": "stream",
     "text": [
      "2024-03-06 02:06:22,639 - pyvisa - DEBUG - No visa library specified, trying to find alternatives.\n",
      "2024-03-06 02:06:22,640 - pyvisa - DEBUG - Environment variable PYVISA_LIBRARY is unset.\n",
      "2024-03-06 02:06:22,646 - pyvisa - DEBUG - No user defined configuration\n",
      "2024-03-06 02:06:22,649 - pyvisa - DEBUG - Automatically found library files: [None, 'C:\\\\WINDOWS\\\\system32\\\\visa32.dll', 'C:\\\\WINDOWS\\\\system32\\\\visa32.dll', 'C:\\\\WINDOWS\\\\system32\\\\visa64.dll', 'C:\\\\WINDOWS\\\\system32\\\\visa64.dll']\n",
      "2024-03-06 02:06:22,650 - pyvisa - DEBUG - No user defined library files\n",
      "2024-03-06 02:06:22,650 - pyvisa - DEBUG - The IVI implementation available\n",
      "2024-03-06 02:06:22,650 - pyvisa - DEBUG - No user defined configuration\n",
      "2024-03-06 02:06:22,653 - pyvisa - DEBUG - Automatically found library files: [None, 'C:\\\\WINDOWS\\\\system32\\\\visa32.dll', 'C:\\\\WINDOWS\\\\system32\\\\visa32.dll', 'C:\\\\WINDOWS\\\\system32\\\\visa64.dll', 'C:\\\\WINDOWS\\\\system32\\\\visa64.dll']\n",
      "2024-03-06 02:06:22,654 - pyvisa - DEBUG - No user defined library files\n",
      "2024-03-06 02:06:22,656 - pyvisa - DEBUG - Library signatures: 90 ok, 0 failed\n",
      "2024-03-06 02:06:22,657 - pyvisa - DEBUG - Created library wrapper for C:\\WINDOWS\\system32\\visa32.dll\n",
      "2024-03-06 02:06:22,693 - pyvisa - DEBUG - viOpenDefaultRM('<ViObject object at 0x0000016BFF60EDD0>',) -> 0\n",
      "2024-03-06 02:06:22,694 - pyvisa - DEBUG - Created ResourceManager with session 4097\n",
      "2024-03-06 02:06:22,694 - pymetr.instruments - DEBUG - Initializing Instrument with resource_string: TCPIP0::192.168.1.111::hislip0::INSTR\n"
     ]
    },
    {
     "name": "stdout",
     "output_type": "stream",
     "text": [
      "MAIN\n"
     ]
    }
   ],
   "source": [
    "\n"
   ]
  },
  {
   "cell_type": "code",
   "execution_count": 4,
   "metadata": {},
   "outputs": [],
   "source": [
    "oscilloscope.close()"
   ]
  },
  {
   "cell_type": "code",
   "execution_count": null,
   "metadata": {},
   "outputs": [],
   "source": []
  }
 ],
 "metadata": {
  "kernelspec": {
   "display_name": "Python 3",
   "language": "python",
   "name": "python3"
  },
  "language_info": {
   "codemirror_mode": {
    "name": "ipython",
    "version": 3
   },
   "file_extension": ".py",
   "mimetype": "text/x-python",
   "name": "python",
   "nbconvert_exporter": "python",
   "pygments_lexer": "ipython3",
   "version": "3.12.0"
  }
 },
 "nbformat": 4,
 "nbformat_minor": 2
}
